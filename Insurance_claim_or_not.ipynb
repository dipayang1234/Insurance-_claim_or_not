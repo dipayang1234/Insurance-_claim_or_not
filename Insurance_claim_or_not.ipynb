{
 "cells": [
  {
   "cell_type": "code",
   "execution_count": 3,
   "metadata": {},
   "outputs": [],
   "source": [
    "import pandas as pd\n",
    "import numpy as np\n",
    "from matplotlib import pyplot as plt\n",
    "%matplotlib inline"
   ]
  },
  {
   "cell_type": "code",
   "execution_count": 4,
   "metadata": {},
   "outputs": [
    {
     "data": {
      "text/html": [
       "<div>\n",
       "<style scoped>\n",
       "    .dataframe tbody tr th:only-of-type {\n",
       "        vertical-align: middle;\n",
       "    }\n",
       "\n",
       "    .dataframe tbody tr th {\n",
       "        vertical-align: top;\n",
       "    }\n",
       "\n",
       "    .dataframe thead th {\n",
       "        text-align: right;\n",
       "    }\n",
       "</style>\n",
       "<table border=\"1\" class=\"dataframe\">\n",
       "  <thead>\n",
       "    <tr style=\"text-align: right;\">\n",
       "      <th></th>\n",
       "      <th>age</th>\n",
       "      <th>sex</th>\n",
       "      <th>bmi</th>\n",
       "      <th>children</th>\n",
       "      <th>smoker</th>\n",
       "      <th>region</th>\n",
       "      <th>charges</th>\n",
       "      <th>insuranceclaim</th>\n",
       "    </tr>\n",
       "  </thead>\n",
       "  <tbody>\n",
       "    <tr>\n",
       "      <th>0</th>\n",
       "      <td>19</td>\n",
       "      <td>0</td>\n",
       "      <td>27.900</td>\n",
       "      <td>0</td>\n",
       "      <td>1</td>\n",
       "      <td>3</td>\n",
       "      <td>16884.92400</td>\n",
       "      <td>1</td>\n",
       "    </tr>\n",
       "    <tr>\n",
       "      <th>1</th>\n",
       "      <td>18</td>\n",
       "      <td>1</td>\n",
       "      <td>33.770</td>\n",
       "      <td>1</td>\n",
       "      <td>0</td>\n",
       "      <td>2</td>\n",
       "      <td>1725.55230</td>\n",
       "      <td>1</td>\n",
       "    </tr>\n",
       "    <tr>\n",
       "      <th>2</th>\n",
       "      <td>28</td>\n",
       "      <td>1</td>\n",
       "      <td>33.000</td>\n",
       "      <td>3</td>\n",
       "      <td>0</td>\n",
       "      <td>2</td>\n",
       "      <td>4449.46200</td>\n",
       "      <td>0</td>\n",
       "    </tr>\n",
       "    <tr>\n",
       "      <th>3</th>\n",
       "      <td>33</td>\n",
       "      <td>1</td>\n",
       "      <td>22.705</td>\n",
       "      <td>0</td>\n",
       "      <td>0</td>\n",
       "      <td>1</td>\n",
       "      <td>21984.47061</td>\n",
       "      <td>0</td>\n",
       "    </tr>\n",
       "    <tr>\n",
       "      <th>4</th>\n",
       "      <td>32</td>\n",
       "      <td>1</td>\n",
       "      <td>28.880</td>\n",
       "      <td>0</td>\n",
       "      <td>0</td>\n",
       "      <td>1</td>\n",
       "      <td>3866.85520</td>\n",
       "      <td>1</td>\n",
       "    </tr>\n",
       "  </tbody>\n",
       "</table>\n",
       "</div>"
      ],
      "text/plain": [
       "   age  sex     bmi  children  smoker  region      charges  insuranceclaim\n",
       "0   19    0  27.900         0       1       3  16884.92400               1\n",
       "1   18    1  33.770         1       0       2   1725.55230               1\n",
       "2   28    1  33.000         3       0       2   4449.46200               0\n",
       "3   33    1  22.705         0       0       1  21984.47061               0\n",
       "4   32    1  28.880         0       0       1   3866.85520               1"
      ]
     },
     "execution_count": 4,
     "metadata": {},
     "output_type": "execute_result"
    }
   ],
   "source": [
    "df=pd.read_csv(\"insurance2.csv\")\n",
    "df.head()"
   ]
  },
  {
   "cell_type": "code",
   "execution_count": 5,
   "metadata": {},
   "outputs": [],
   "source": [
    "x=df[['age','sex','bmi','children','smoker','region','charges']]\n",
    "y=df['insuranceclaim']"
   ]
  },
  {
   "cell_type": "code",
   "execution_count": 6,
   "metadata": {},
   "outputs": [
    {
     "name": "stdout",
     "output_type": "stream",
     "text": [
      "   age  sex     bmi  children  smoker  region      charges\n",
      "0   19    0  27.900         0       1       3  16884.92400\n",
      "1   18    1  33.770         1       0       2   1725.55230\n",
      "2   28    1  33.000         3       0       2   4449.46200\n",
      "3   33    1  22.705         0       0       1  21984.47061\n",
      "4   32    1  28.880         0       0       1   3866.85520\n"
     ]
    }
   ],
   "source": [
    "print(x.head())"
   ]
  },
  {
   "cell_type": "code",
   "execution_count": 7,
   "metadata": {
    "scrolled": false
   },
   "outputs": [
    {
     "data": {
      "text/plain": [
       "<matplotlib.collections.PathCollection at 0x7f38cf36a7f0>"
      ]
     },
     "execution_count": 7,
     "metadata": {},
     "output_type": "execute_result"
    },
    {
     "data": {
      "image/png": "[encoded data removed]",
      "text/plain": [
       "<Figure size 432x288 with 1 Axes>"
      ]
     },
     "metadata": {
      "needs_background": "light"
     },
     "output_type": "display_data"
    }
   ],
   "source": [
    "plt.scatter(x.sex,y,marker='.',color='red')"
   ]
  },
  {
   "cell_type": "code",
   "execution_count": 8,
   "metadata": {},
   "outputs": [],
   "source": [
    "from sklearn.model_selection import train_test_split\n",
    "x_train,x_test,y_train,y_test=train_test_split(x,y,test_size=0.2)"
   ]
  },
  {
   "cell_type": "code",
   "execution_count": 9,
   "metadata": {},
   "outputs": [
    {
     "name": "stdout",
     "output_type": "stream",
     "text": [
      "      age  sex     bmi  children  smoker  region      charges\n",
      "820    45    1  33.700         1       0       3   7445.91800\n",
      "169    27    1  18.905         3       0       0   4827.90495\n",
      "830    63    1  33.100         0       0       3  13393.75600\n",
      "762    33    1  27.100         1       1       3  19040.87600\n",
      "1102   29    1  38.940         1       0       2   3471.40960\n",
      "309    41    0  33.060         2       0       1   7749.15640\n",
      "1059   32    1  33.820         1       0       1   4462.72180\n",
      "1125   63    0  25.080         0       0       1  14254.60820\n",
      "723    19    1  35.400         0       0       3   1263.24900\n",
      "1250   24    1  29.830         0       1       0  18648.42170\n",
      "481    49    1  37.510         2       0       2   9304.70190\n",
      "183    44    0  26.410         0       0       1   7419.47790\n",
      "265    46    1  42.350         3       1       2  46151.12450\n",
      "302    56    0  37.510         2       0       2  12265.50690\n",
      "240    23    0  36.670         2       1       0  38511.62830\n",
      "498    44    0  23.980         2       0       2   8211.10020\n",
      "611    38    0  34.800         2       0       3   6571.54400\n",
      "105    20    1  28.025         1       1       1  17560.37975\n",
      "627    33    1  42.460         1       0       2  11326.71487\n",
      "1251   19    1  19.800         0       0       3   1241.56500\n",
      "999    36    0  26.885         0       0       1   5267.81815\n",
      "595    46    0  33.725         1       0       0   8823.98575\n",
      "545    49    1  25.840         2       1       1  23807.24060\n",
      "1238   37    1  22.705         3       0       0   6985.50695\n",
      "237    31    1  38.390         2       0       2   4463.20510\n",
      "749    28    1  30.875         0       0       1   3062.50825\n",
      "1134   28    1  33.820         0       0       1  19673.33573\n",
      "558    35    0  34.105         3       1       1  39983.42595\n",
      "805    45    0  35.815         0       0       1   7731.85785\n",
      "463    56    1  25.935         0       0       0  11165.41765\n",
      "...   ...  ...     ...       ...     ...     ...          ...\n",
      "117    29    0  27.940         1       1       2  19107.77960\n",
      "484    48    1  34.300         3       0       3   9563.02900\n",
      "708    31    0  30.495         3       0       0   6113.23105\n",
      "464    19    1  25.175         0       0       1   1632.03625\n",
      "838    35    0  23.465         2       0       0   6402.29135\n",
      "1057   45    0  31.790         0       0       2  17929.30337\n",
      "178    46    0  28.900         2       0       3   8823.27900\n",
      "1260   32    0  20.520         0       0       0   4544.23480\n",
      "185    36    1  41.895         3       1       0  43753.33705\n",
      "1148   55    1  21.500         1       0       3  10791.96000\n",
      "1136   44    0  25.000         1       0       3   7623.51800\n",
      "89     55    0  26.980         0       0       1  11082.57720\n",
      "589    38    0  30.690         1       0       2   5976.83110\n",
      "477    25    1  35.625         0       0       1   2534.39375\n",
      "107    26    1  30.875         2       0       1   3877.30425\n",
      "115    60    1  28.595         0       0       0  30259.99556\n",
      "361    35    1  30.500         1       0       3   4751.07000\n",
      "1235   26    1  31.065         0       0       1   2699.56835\n",
      "313    49    1  35.860         0       0       2   8124.40840\n",
      "397    21    1  31.020         0       0       2  16586.49771\n",
      "902    26    1  27.265         3       0       0   4661.28635\n",
      "1296   18    1  26.125         0       0       0   1708.92575\n",
      "424    48    1  30.200         2       0       3   8968.33000\n",
      "597    34    0  33.250         1       0       0   5594.84550\n",
      "229    47    1  25.460         2       0       0   9225.25640\n",
      "639    56    1  33.660         4       0       2  12949.15540\n",
      "1103   58    1  36.080         0       0       2  11363.28320\n",
      "1298   33    1  27.455         2       0       1   5261.46945\n",
      "524    42    1  26.070         1       1       2  38245.59327\n",
      "411    44    0  20.235         1       1       0  19594.80965\n",
      "\n",
      "[268 rows x 7 columns]\n"
     ]
    }
   ],
   "source": [
    "print(x_test)"
   ]
  },
  {
   "cell_type": "code",
   "execution_count": 10,
   "metadata": {},
   "outputs": [],
   "source": [
    "from sklearn.linear_model import LogisticRegression\n",
    "model=LogisticRegression()"
   ]
  },
  {
   "cell_type": "code",
   "execution_count": 11,
   "metadata": {},
   "outputs": [
    {
     "name": "stderr",
     "output_type": "stream",
     "text": [
      "/usr/local/lib/python3.6/dist-packages/sklearn/linear_model/logistic.py:433: FutureWarning: Default solver will be changed to 'lbfgs' in 0.22. Specify a solver to silence this warning.\n",
      "  FutureWarning)\n"
     ]
    },
    {
     "data": {
      "text/plain": [
       "LogisticRegression(C=1.0, class_weight=None, dual=False, fit_intercept=True,\n",
       "          intercept_scaling=1, max_iter=100, multi_class='warn',\n",
       "          n_jobs=None, penalty='l2', random_state=None, solver='warn',\n",
       "          tol=0.0001, verbose=0, warm_start=False)"
      ]
     },
     "execution_count": 11,
     "metadata": {},
     "output_type": "execute_result"
    }
   ],
   "source": [
    "model.fit(x_train,y_train)"
   ]
  },
  {
   "cell_type": "code",
   "execution_count": 12,
   "metadata": {},
   "outputs": [
    {
     "data": {
      "text/plain": [
       "array([1, 0, 1, 1, 1, 0, 1, 1, 1, 1, 0, 1, 1, 0, 1, 0, 0, 1, 1, 1, 1, 1,\n",
       "       1, 0, 0, 1, 1, 1, 1, 1, 0, 0, 1, 0, 1, 0, 1, 1, 1, 1, 1, 1, 1, 0,\n",
       "       1, 1, 1, 0, 0, 1, 1, 1, 1, 1, 1, 0, 1, 1, 0, 1, 1, 0, 1, 1, 1, 1,\n",
       "       1, 0, 1, 0, 1, 1, 0, 1, 0, 1, 1, 1, 0, 1, 1, 1, 0, 1, 1, 1, 1, 1,\n",
       "       0, 1, 1, 1, 0, 1, 1, 0, 0, 0, 1, 1, 0, 1, 1, 0, 1, 1, 1, 1, 1, 1,\n",
       "       1, 1, 1, 1, 0, 1, 0, 0, 1, 1, 1, 0, 0, 1, 1, 0, 0, 1, 1, 1, 1, 0,\n",
       "       0, 1, 1, 0, 1, 0, 1, 1, 1, 1, 1, 1, 1, 1, 1, 1, 0, 1, 1, 0, 1, 1,\n",
       "       1, 0, 1, 1, 1, 0, 1, 0, 1, 1, 1, 0, 0, 1, 1, 1, 0, 1, 1, 1, 0, 1,\n",
       "       1, 0, 1, 1, 1, 1, 1, 0, 1, 0, 0, 0, 1, 1, 1, 1, 1, 1, 1, 1, 0, 1,\n",
       "       1, 1, 0, 0, 1, 1, 0, 1, 1, 0, 1, 1, 1, 1, 1, 1, 0, 0, 0, 0, 1, 1,\n",
       "       1, 1, 1, 1, 1, 1, 1, 0, 1, 0, 0, 0, 1, 1, 0, 1, 0, 1, 1, 0, 0, 1,\n",
       "       0, 1, 0, 1, 1, 0, 0, 1, 1, 1, 0, 1, 0, 1, 1, 1, 0, 1, 0, 1, 0, 0,\n",
       "       1, 0, 1, 1])"
      ]
     },
     "execution_count": 12,
     "metadata": {},
     "output_type": "execute_result"
    }
   ],
   "source": [
    "model.predict(x_test)"
   ]
  },
  {
   "cell_type": "code",
   "execution_count": 19,
   "metadata": {},
   "outputs": [
    {
     "data": {
      "text/plain": [
       "0.7947761194029851"
      ]
     },
     "execution_count": 19,
     "metadata": {},
     "output_type": "execute_result"
    }
   ],
   "source": [
    "model.score(x_test,y_test)"
   ]
  },
  {
   "cell_type": "code",
   "execution_count": 25,
   "metadata": {},
   "outputs": [
    {
     "name": "stdout",
     "output_type": "stream",
     "text": [
      "      age  sex     bmi  children  smoker  region      charges\n",
      "0      19    0  27.900         0       1       3  16884.92400\n",
      "1      18    1  33.770         1       0       2   1725.55230\n",
      "2      28    1  33.000         3       0       2   4449.46200\n",
      "3      33    1  22.705         0       0       1  21984.47061\n",
      "4      32    1  28.880         0       0       1   3866.85520\n",
      "5      31    0  25.740         0       0       2   3756.62160\n",
      "6      46    0  33.440         1       0       2   8240.58960\n",
      "7      37    0  27.740         3       0       1   7281.50560\n",
      "8      37    1  29.830         2       0       0   6406.41070\n",
      "9      60    0  25.840         0       0       1  28923.13692\n",
      "10     25    1  26.220         0       0       0   2721.32080\n",
      "11     62    0  26.290         0       1       2  27808.72510\n",
      "12     23    1  34.400         0       0       3   1826.84300\n",
      "13     56    0  39.820         0       0       2  11090.71780\n",
      "14     27    1  42.130         0       1       2  39611.75770\n",
      "15     19    1  24.600         1       0       3   1837.23700\n",
      "16     52    0  30.780         1       0       0  10797.33620\n",
      "17     23    1  23.845         0       0       0   2395.17155\n",
      "18     56    1  40.300         0       0       3  10602.38500\n",
      "19     30    1  35.300         0       1       3  36837.46700\n",
      "20     60    0  36.005         0       0       0  13228.84695\n",
      "21     30    0  32.400         1       0       3   4149.73600\n",
      "22     18    1  34.100         0       0       2   1137.01100\n",
      "23     34    0  31.920         1       1       0  37701.87680\n",
      "24     37    1  28.025         2       0       1   6203.90175\n",
      "25     59    0  27.720         3       0       2  14001.13380\n",
      "26     63    0  23.085         0       0       0  14451.83515\n",
      "27     55    0  32.775         2       0       1  12268.63225\n",
      "28     23    1  17.385         1       0       1   2775.19215\n",
      "29     31    1  36.300         2       1       3  38711.00000\n",
      "...   ...  ...     ...       ...     ...     ...          ...\n",
      "1308   25    0  30.200         0       1       3  33900.65300\n",
      "1309   41    1  32.200         2       0       3   6875.96100\n",
      "1310   42    1  26.315         1       0       1   6940.90985\n",
      "1311   33    0  26.695         0       0       1   4571.41305\n",
      "1312   34    1  42.900         1       0       3   4536.25900\n",
      "1313   19    0  34.700         2       1       3  36397.57600\n",
      "1314   30    0  23.655         3       1       1  18765.87545\n",
      "1315   18    1  28.310         1       0       0  11272.33139\n",
      "1316   19    0  20.600         0       0       3   1731.67700\n",
      "1317   18    1  53.130         0       0       2   1163.46270\n",
      "1318   35    1  39.710         4       0       0  19496.71917\n",
      "1319   39    0  26.315         2       0       1   7201.70085\n",
      "1320   31    1  31.065         3       0       1   5425.02335\n",
      "1321   62    1  26.695         0       1       0  28101.33305\n",
      "1322   62    1  38.830         0       0       2  12981.34570\n",
      "1323   42    0  40.370         2       1       2  43896.37630\n",
      "1324   31    1  25.935         1       0       1   4239.89265\n",
      "1325   61    1  33.535         0       0       0  13143.33665\n",
      "1326   42    0  32.870         0       0       0   7050.02130\n",
      "1327   51    1  30.030         1       0       2   9377.90470\n",
      "1328   23    0  24.225         2       0       0  22395.74424\n",
      "1329   52    1  38.600         2       0       3  10325.20600\n",
      "1330   57    0  25.740         2       0       2  12629.16560\n",
      "1331   23    0  33.400         0       0       3  10795.93733\n",
      "1332   52    0  44.700         3       0       3  11411.68500\n",
      "1333   50    1  30.970         3       0       1  10600.54830\n",
      "1334   18    0  31.920         0       0       0   2205.98080\n",
      "1335   18    0  36.850         0       0       2   1629.83350\n",
      "1336   21    0  25.800         0       0       3   2007.94500\n",
      "1337   61    0  29.070         0       1       1  29141.36030\n",
      "\n",
      "[1338 rows x 7 columns]\n"
     ]
    }
   ],
   "source": [
    "print(x)"
   ]
  },
  {
   "cell_type": "code",
   "execution_count": 28,
   "metadata": {},
   "outputs": [
    {
     "data": {
      "text/plain": [
       "array([1])"
      ]
     },
     "execution_count": 28,
     "metadata": {},
     "output_type": "execute_result"
    }
   ],
   "source": [
    "pr=[[61,0,29.070,0,1,1,29141.36030]]\n",
    "model.predict(pr)"
   ]
  },
  {
   "cell_type": "code",
   "execution_count": 29,
   "metadata": {},
   "outputs": [],
   "source": [
    "pr=[[62,1,30.070,0,1,1,24444]]"
   ]
  },
  {
   "cell_type": "code",
   "execution_count": 30,
   "metadata": {},
   "outputs": [
    {
     "data": {
      "text/plain": [
       "array([1])"
      ]
     },
     "execution_count": 30,
     "metadata": {},
     "output_type": "execute_result"
    }
   ],
   "source": [
    "model.predict(pr)"
   ]
  },
  {
   "cell_type": "code",
   "execution_count": 31,
   "metadata": {},
   "outputs": [],
   "source": [
    "pr2=[[23,1,30.070,0,1,1,24444]]"
   ]
  },
  {
   "cell_type": "code",
   "execution_count": 32,
   "metadata": {},
   "outputs": [
    {
     "data": {
      "text/plain": [
       "array([1])"
      ]
     },
     "execution_count": 32,
     "metadata": {},
     "output_type": "execute_result"
    }
   ],
   "source": [
    "model.predict(pr2)"
   ]
  },
  {
   "cell_type": "code",
   "execution_count": 33,
   "metadata": {},
   "outputs": [
    {
     "data": {
      "text/plain": [
       "array([1])"
      ]
     },
     "execution_count": 33,
     "metadata": {},
     "output_type": "execute_result"
    }
   ],
   "source": [
    "pr3=[[23,1,30.070,0,1,1,244]]\n",
    "model.predict(pr3)"
   ]
  },
  {
   "cell_type": "code",
   "execution_count": 34,
   "metadata": {},
   "outputs": [],
   "source": [
    "pr4=[[14,1,30.070,0,1,1,24444]]"
   ]
  },
  {
   "cell_type": "code",
   "execution_count": 35,
   "metadata": {},
   "outputs": [
    {
     "data": {
      "text/plain": [
       "array([1])"
      ]
     },
     "execution_count": 35,
     "metadata": {},
     "output_type": "execute_result"
    }
   ],
   "source": [
    "model.predict(pr4)"
   ]
  },
  {
   "cell_type": "code",
   "execution_count": 36,
   "metadata": {},
   "outputs": [
    {
     "data": {
      "text/plain": [
       "array([1])"
      ]
     },
     "execution_count": 36,
     "metadata": {},
     "output_type": "execute_result"
    }
   ],
   "source": [
    "pr5=[[18,1 ,33.770,1,0,2,1725.55230]]\n",
    "model.predict(pr5)"
   ]
  },
  {
   "cell_type": "code",
   "execution_count": 50,
   "metadata": {},
   "outputs": [
    {
     "data": {
      "text/plain": [
       "array([0])"
      ]
     },
     "execution_count": 50,
     "metadata": {},
     "output_type": "execute_result"
    }
   ],
   "source": [
    "pr6=[[28,1,33.000,3,0,2,4449.46200]]\n",
    "model.predict(pr6)"
   ]
  },
  {
   "cell_type": "code",
   "execution_count": 57,
   "metadata": {},
   "outputs": [
    {
     "name": "stdout",
     "output_type": "stream",
     "text": [
      "28 1 33 3 0 2 4449.462\n"
     ]
    },
    {
     "data": {
      "text/plain": [
       "array([0])"
      ]
     },
     "execution_count": 57,
     "metadata": {},
     "output_type": "execute_result"
    }
   ],
   "source": [
    "pr=[float(x) for x in input().split()]\n",
    "pr1=[pr]\n",
    "model.predict(pr1)"
   ]
  },
  {
   "cell_type": "code",
   "execution_count": 54,
   "metadata": {},
   "outputs": [],
   "source": [
    "pr1=[pr1]"
   ]
  },
  {
   "cell_type": "code",
   "execution_count": 55,
   "metadata": {},
   "outputs": [
    {
     "data": {
      "text/plain": [
       "[[28.0, 1.0, 33.0, 3.0, 0.0, 2.0, 449.0]]"
      ]
     },
     "execution_count": 55,
     "metadata": {},
     "output_type": "execute_result"
    }
   ],
   "source": [
    "pr1"
   ]
  },
  {
   "cell_type": "code",
   "execution_count": 56,
   "metadata": {},
   "outputs": [
    {
     "data": {
      "text/plain": [
       "array([0])"
      ]
     },
     "execution_count": 56,
     "metadata": {},
     "output_type": "execute_result"
    }
   ],
   "source": [
    "model.predict(pr1)"
   ]
  },
  {
   "cell_type": "code",
   "execution_count": 66,
   "metadata": {},
   "outputs": [
    {
     "data": {
      "text/plain": [
       "array([[0.01414558, 0.98585442],\n",
       "       [0.16741729, 0.83258271],\n",
       "       [0.96625783, 0.03374217],\n",
       "       [0.69824024, 0.30175976],\n",
       "       [0.22193927, 0.77806073],\n",
       "       [0.26058519, 0.73941481],\n",
       "       [0.46229803, 0.53770197],\n",
       "       [0.6403773 , 0.3596227 ],\n",
       "       [0.51189862, 0.48810138],\n",
       "       [0.57786731, 0.42213269],\n",
       "       [0.46065627, 0.53934373],\n",
       "       [0.78938395, 0.21061605],\n",
       "       [0.86466415, 0.13533585],\n",
       "       [0.22774166, 0.77225834],\n",
       "       [0.24800414, 0.75199586],\n",
       "       [0.50705152, 0.49294848],\n",
       "       [0.21019323, 0.78980677],\n",
       "       [0.04972636, 0.95027364],\n",
       "       [0.72863196, 0.27136804],\n",
       "       [0.91031923, 0.08968077],\n",
       "       [0.22919985, 0.77080015],\n",
       "       [0.84248233, 0.15751767],\n",
       "       [0.70341151, 0.29658849],\n",
       "       [0.66894661, 0.33105339],\n",
       "       [0.40324666, 0.59675334],\n",
       "       [0.30049438, 0.69950562],\n",
       "       [0.12900397, 0.87099603],\n",
       "       [0.80975463, 0.19024537],\n",
       "       [0.16983821, 0.83016179],\n",
       "       [0.14204628, 0.85795372],\n",
       "       [0.36430719, 0.63569281],\n",
       "       [0.58734483, 0.41265517],\n",
       "       [0.66942452, 0.33057548],\n",
       "       [0.22437271, 0.77562729],\n",
       "       [0.01266401, 0.98733599],\n",
       "       [0.29458313, 0.70541687],\n",
       "       [0.10405321, 0.89594679],\n",
       "       [0.85554706, 0.14445294],\n",
       "       [0.40878511, 0.59121489],\n",
       "       [0.05490325, 0.94509675],\n",
       "       [0.01028923, 0.98971077],\n",
       "       [0.16508575, 0.83491425],\n",
       "       [0.14338368, 0.85661632],\n",
       "       [0.00583414, 0.99416586],\n",
       "       [0.07209186, 0.92790814],\n",
       "       [0.50193635, 0.49806365],\n",
       "       [0.25942194, 0.74057806],\n",
       "       [0.21232862, 0.78767138],\n",
       "       [0.00994677, 0.99005323],\n",
       "       [0.73347967, 0.26652033],\n",
       "       [0.61892084, 0.38107916],\n",
       "       [0.18067892, 0.81932108],\n",
       "       [0.08920881, 0.91079119],\n",
       "       [0.01096385, 0.98903615],\n",
       "       [0.77683299, 0.22316701],\n",
       "       [0.31225579, 0.68774421],\n",
       "       [0.39282583, 0.60717417],\n",
       "       [0.73838797, 0.26161203],\n",
       "       [0.39159399, 0.60840601],\n",
       "       [0.22651886, 0.77348114],\n",
       "       [0.7745748 , 0.2254252 ],\n",
       "       [0.22902335, 0.77097665],\n",
       "       [0.74843756, 0.25156244],\n",
       "       [0.3531689 , 0.6468311 ],\n",
       "       [0.10396466, 0.89603534],\n",
       "       [0.75153361, 0.24846639],\n",
       "       [0.53423879, 0.46576121],\n",
       "       [0.15048665, 0.84951335],\n",
       "       [0.51225967, 0.48774033],\n",
       "       [0.28971381, 0.71028619],\n",
       "       [0.42950913, 0.57049087],\n",
       "       [0.17893879, 0.82106121],\n",
       "       [0.71147321, 0.28852679],\n",
       "       [0.41638156, 0.58361844],\n",
       "       [0.20193703, 0.79806297],\n",
       "       [0.01085231, 0.98914769],\n",
       "       [0.75204316, 0.24795684],\n",
       "       [0.35260109, 0.64739891],\n",
       "       [0.00348053, 0.99651947],\n",
       "       [0.0154578 , 0.9845422 ],\n",
       "       [0.88227016, 0.11772984],\n",
       "       [0.28580425, 0.71419575],\n",
       "       [0.45823616, 0.54176384],\n",
       "       [0.13975205, 0.86024795],\n",
       "       [0.57151725, 0.42848275],\n",
       "       [0.32900867, 0.67099133],\n",
       "       [0.22081881, 0.77918119],\n",
       "       [0.04610377, 0.95389623],\n",
       "       [0.00448623, 0.99551377],\n",
       "       [0.87888166, 0.12111834],\n",
       "       [0.70970435, 0.29029565],\n",
       "       [0.55051574, 0.44948426],\n",
       "       [0.88569868, 0.11430132],\n",
       "       [0.71386359, 0.28613641],\n",
       "       [0.31951923, 0.68048077],\n",
       "       [0.19228106, 0.80771894],\n",
       "       [0.70115281, 0.29884719],\n",
       "       [0.29793995, 0.70206005],\n",
       "       [0.39530315, 0.60469685],\n",
       "       [0.35807039, 0.64192961],\n",
       "       [0.01170654, 0.98829346],\n",
       "       [0.75369258, 0.24630742],\n",
       "       [0.94701544, 0.05298456],\n",
       "       [0.40988346, 0.59011654],\n",
       "       [0.30939749, 0.69060251],\n",
       "       [0.62702945, 0.37297055],\n",
       "       [0.82015133, 0.17984867],\n",
       "       [0.06835704, 0.93164296],\n",
       "       [0.34129727, 0.65870273],\n",
       "       [0.90244375, 0.09755625],\n",
       "       [0.01604705, 0.98395295],\n",
       "       [0.26674094, 0.73325906],\n",
       "       [0.74347739, 0.25652261],\n",
       "       [0.02562391, 0.97437609],\n",
       "       [0.75246647, 0.24753353],\n",
       "       [0.20968828, 0.79031172],\n",
       "       [0.64101869, 0.35898131],\n",
       "       [0.66832913, 0.33167087],\n",
       "       [0.01349169, 0.98650831],\n",
       "       [0.16379184, 0.83620816],\n",
       "       [0.69427334, 0.30572666],\n",
       "       [0.87724103, 0.12275897],\n",
       "       [0.08884537, 0.91115463],\n",
       "       [0.01285731, 0.98714269],\n",
       "       [0.2804095 , 0.7195905 ],\n",
       "       [0.22513251, 0.77486749],\n",
       "       [0.88977836, 0.11022164],\n",
       "       [0.79397499, 0.20602501],\n",
       "       [0.5381534 , 0.4618466 ],\n",
       "       [0.1861241 , 0.8138759 ],\n",
       "       [0.52072265, 0.47927735],\n",
       "       [0.00301487, 0.99698513],\n",
       "       [0.30920883, 0.69079117],\n",
       "       [0.055686  , 0.944314  ],\n",
       "       [0.09083868, 0.90916132],\n",
       "       [0.16204258, 0.83795742],\n",
       "       [0.28527233, 0.71472767],\n",
       "       [0.12193957, 0.87806043],\n",
       "       [0.24664851, 0.75335149],\n",
       "       [0.13175135, 0.86824865],\n",
       "       [0.18654647, 0.81345353],\n",
       "       [0.02313602, 0.97686398],\n",
       "       [0.94146309, 0.05853691],\n",
       "       [0.39308635, 0.60691365],\n",
       "       [0.48314819, 0.51685181],\n",
       "       [0.43790166, 0.56209834],\n",
       "       [0.12701089, 0.87298911],\n",
       "       [0.18991035, 0.81008965],\n",
       "       [0.00337206, 0.99662794],\n",
       "       [0.05960253, 0.94039747],\n",
       "       [0.14528896, 0.85471104],\n",
       "       [0.32818971, 0.67181029],\n",
       "       [0.50182098, 0.49817902],\n",
       "       [0.41367173, 0.58632827],\n",
       "       [0.21799412, 0.78200588],\n",
       "       [0.35638619, 0.64361381],\n",
       "       [0.30987327, 0.69012673],\n",
       "       [0.31759939, 0.68240061],\n",
       "       [0.31901625, 0.68098375],\n",
       "       [0.16193549, 0.83806451],\n",
       "       [0.80034195, 0.19965805],\n",
       "       [0.67847339, 0.32152661],\n",
       "       [0.02330527, 0.97669473],\n",
       "       [0.51300532, 0.48699468],\n",
       "       [0.05784718, 0.94215282],\n",
       "       [0.28824958, 0.71175042],\n",
       "       [0.28951692, 0.71048308],\n",
       "       [0.62610381, 0.37389619],\n",
       "       [0.69789874, 0.30210126],\n",
       "       [0.41228407, 0.58771593],\n",
       "       [0.5057892 , 0.4942108 ],\n",
       "       [0.29965198, 0.70034802],\n",
       "       [0.41553423, 0.58446577],\n",
       "       [0.92779392, 0.07220608],\n",
       "       [0.63933786, 0.36066214],\n",
       "       [0.89833647, 0.10166353],\n",
       "       [0.03615264, 0.96384736],\n",
       "       [0.03485608, 0.96514392],\n",
       "       [0.27500087, 0.72499913],\n",
       "       [0.78060566, 0.21939434],\n",
       "       [0.71512432, 0.28487568],\n",
       "       [0.12351791, 0.87648209],\n",
       "       [0.31932034, 0.68067966],\n",
       "       [0.84612418, 0.15387582],\n",
       "       [0.3542119 , 0.6457881 ],\n",
       "       [0.452098  , 0.547902  ],\n",
       "       [0.46900144, 0.53099856],\n",
       "       [0.08202447, 0.91797553],\n",
       "       [0.05027536, 0.94972464],\n",
       "       [0.21473425, 0.78526575],\n",
       "       [0.23382966, 0.76617034],\n",
       "       [0.21902228, 0.78097772],\n",
       "       [0.10759062, 0.89240938],\n",
       "       [0.56128056, 0.43871944],\n",
       "       [0.55345598, 0.44654402],\n",
       "       [0.78833934, 0.21166066],\n",
       "       [0.2742712 , 0.7257288 ],\n",
       "       [0.43007345, 0.56992655],\n",
       "       [0.47276282, 0.52723718],\n",
       "       [0.16620039, 0.83379961],\n",
       "       [0.26159021, 0.73840979],\n",
       "       [0.84930739, 0.15069261],\n",
       "       [0.00974999, 0.99025001],\n",
       "       [0.75013908, 0.24986092],\n",
       "       [0.05772354, 0.94227646],\n",
       "       [0.00226295, 0.99773705],\n",
       "       [0.40490824, 0.59509176],\n",
       "       [0.27299495, 0.72700505],\n",
       "       [0.20298699, 0.79701301],\n",
       "       [0.69588953, 0.30411047],\n",
       "       [0.47638701, 0.52361299],\n",
       "       [0.65698121, 0.34301879],\n",
       "       [0.51828717, 0.48171283],\n",
       "       [0.88110636, 0.11889364],\n",
       "       [0.26312132, 0.73687868],\n",
       "       [0.32695349, 0.67304651],\n",
       "       [0.23424659, 0.76575341],\n",
       "       [0.22083745, 0.77916255],\n",
       "       [0.92551312, 0.07448688],\n",
       "       [0.21358312, 0.78641688],\n",
       "       [0.44197121, 0.55802879],\n",
       "       [0.24314134, 0.75685866],\n",
       "       [0.2315406 , 0.7684594 ],\n",
       "       [0.19014597, 0.80985403],\n",
       "       [0.24457773, 0.75542227],\n",
       "       [0.38511997, 0.61488003],\n",
       "       [0.13546836, 0.86453164],\n",
       "       [0.93926037, 0.06073963],\n",
       "       [0.38922636, 0.61077364],\n",
       "       [0.46562605, 0.53437395],\n",
       "       [0.93969491, 0.06030509],\n",
       "       [0.20514042, 0.79485958],\n",
       "       [0.35426683, 0.64573317],\n",
       "       [0.25214066, 0.74785934],\n",
       "       [0.04447086, 0.95552914],\n",
       "       [0.29645849, 0.70354151],\n",
       "       [0.42944054, 0.57055946],\n",
       "       [0.3847457 , 0.6152543 ],\n",
       "       [0.81237441, 0.18762559],\n",
       "       [0.36983327, 0.63016673],\n",
       "       [0.78551306, 0.21448694],\n",
       "       [0.86803864, 0.13196136],\n",
       "       [0.25154178, 0.74845822],\n",
       "       [0.54153148, 0.45846852],\n",
       "       [0.35048409, 0.64951591],\n",
       "       [0.34448279, 0.65551721],\n",
       "       [0.43514648, 0.56485352],\n",
       "       [0.15742898, 0.84257102],\n",
       "       [0.42653293, 0.57346707],\n",
       "       [0.11314571, 0.88685429],\n",
       "       [0.1378591 , 0.8621409 ],\n",
       "       [0.91864648, 0.08135352],\n",
       "       [0.48478681, 0.51521319],\n",
       "       [0.46536575, 0.53463425],\n",
       "       [0.318445  , 0.681555  ],\n",
       "       [0.32736965, 0.67263035],\n",
       "       [0.80406785, 0.19593215],\n",
       "       [0.21936731, 0.78063269],\n",
       "       [0.48356808, 0.51643192],\n",
       "       [0.01095311, 0.98904689],\n",
       "       [0.90622182, 0.09377818],\n",
       "       [0.56096659, 0.43903341],\n",
       "       [0.02024546, 0.97975454],\n",
       "       [0.13291275, 0.86708725],\n",
       "       [0.07372864, 0.92627136],\n",
       "       [0.22244295, 0.77755705],\n",
       "       [0.8507262 , 0.1492738 ],\n",
       "       [0.28705972, 0.71294028]])"
      ]
     },
     "execution_count": 66,
     "metadata": {},
     "output_type": "execute_result"
    }
   ],
   "source": [
    "model.predict_proba(x_test)"
   ]
  },
  {
   "cell_type": "code",
   "execution_count": 16,
   "metadata": {},
   "outputs": [
    {
     "name": "stdout",
     "output_type": "stream",
     "text": [
      "Enter the details: \n",
      "1.Enter the age: 63\n",
      "2.Enter the sex(1 if male / 0 if female): 1\n",
      "3.Enter the bmi: 30.000\n",
      "4.Enter no. of children: 2\n",
      "5.Enter 1 if smoker else enter 0: 1\n",
      "6.Press 0 for Rural area\n",
      "Press 1 for urban area\n",
      "Press 2 for urban area(dist)\n",
      "Press 3 for Metro city:1\n",
      "Enter the charges: 150000\n",
      "According to the given data the prediction is :\n",
      "\n",
      "He/she will buy the insurence\n"
     ]
    }
   ],
   "source": [
    "pr=[]\n",
    "print(\"Enter the details: \")\n",
    "ag=float(input(\"1.Enter the age: \"))\n",
    "pr.append(ag)\n",
    "s=float(input(\"2.Enter the sex(1 if male / 0 if female): \"))\n",
    "pr.append(s)\n",
    "b=float(input(\"3.Enter the bmi: \"))\n",
    "pr.append(b)\n",
    "ch=float(input(\"4.Enter no. of children: \"))\n",
    "pr.append(ch)\n",
    "sm=float(input(\"5.Enter 1 if smoker else enter 0: \"))\n",
    "pr.append(sm)\n",
    "rg=float(input(\"6.Press 0 for Rural area\\nPress 1 for urban area\\nPress 2 for urban area(dist)\\nPress 3 for Metro city:\"))\n",
    "pr.append(rg)\n",
    "ch=float(input(\"Enter the charges: \"))\n",
    "pr.append(ch)\n",
    "#pr=[float(x) for x in input().split()]\n",
    "pr1=[pr]\n",
    "print(\"According to the given data the prediction is :\\n\")\n",
    "if (model.predict(pr1)[0])==0:\n",
    "    print(\"He/She will not buy the insurence\")\n",
    "else:\n",
    "    print(\"He/she will buy the insurence\")"
   ]
  }
 ],
 "metadata": {
  "kernelspec": {
   "display_name": "Python 3",
   "language": "python",
   "name": "python3"
  },
  "language_info": {
   "codemirror_mode": {
    "name": "ipython",
    "version": 3
   },
   "file_extension": ".py",
   "mimetype": "text/x-python",
   "name": "python",
   "nbconvert_exporter": "python",
   "pygments_lexer": "ipython3",
   "version": "3.6.7"
  }
 },
 "nbformat": 4,
 "nbformat_minor": 2
}
